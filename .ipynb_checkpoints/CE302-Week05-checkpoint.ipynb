{
 "cells": [
  {
   "cell_type": "markdown",
   "metadata": {},
   "source": [
    "# CE302 Advanced Programming Techniques for Engineers\n",
    "\n",
    "## Week 05\n",
    "\n",
    "---\n",
    "\n",
    "Dr. Ahmet Anıl Dindar (adindar@gtu.edu.tr) | TA Fırat Bezir (fbezir@gtu.edu.tr)\n",
    "\n",
    "---"
   ]
  },
  {
   "cell_type": "markdown",
   "metadata": {},
   "source": [
    "## Class\n",
    "\n",
    "- What is class\n",
    "\n",
    "- Inherit\n",
    "\n",
    "- Parent and Child class\n",
    "\n",
    "- Extend\n",
    "\n",
    "---"
   ]
  },
  {
   "cell_type": "markdown",
   "metadata": {},
   "source": [
    "Upto now, you've learned variables, values, functions"
   ]
  },
  {
   "cell_type": "code",
   "execution_count": 2,
   "metadata": {},
   "outputs": [],
   "source": [
    "a = 10 \n",
    "b = 20"
   ]
  },
  {
   "cell_type": "code",
   "execution_count": 4,
   "metadata": {},
   "outputs": [
    {
     "data": {
      "text/plain": [
       "30"
      ]
     },
     "execution_count": 4,
     "metadata": {},
     "output_type": "execute_result"
    }
   ],
   "source": [
    "a + b"
   ]
  },
  {
   "cell_type": "code",
   "execution_count": 6,
   "metadata": {},
   "outputs": [
    {
     "name": "stdout",
     "output_type": "stream",
     "text": [
      "positive\n"
     ]
    }
   ],
   "source": [
    "if a > 0: \n",
    "    print( \"positive\")"
   ]
  },
  {
   "cell_type": "code",
   "execution_count": 7,
   "metadata": {},
   "outputs": [
    {
     "data": {
      "text/plain": [
       "int"
      ]
     },
     "execution_count": 7,
     "metadata": {},
     "output_type": "execute_result"
    }
   ],
   "source": [
    "type(a)"
   ]
  },
  {
   "cell_type": "code",
   "execution_count": 8,
   "metadata": {},
   "outputs": [
    {
     "data": {
      "text/plain": [
       "type"
      ]
     },
     "execution_count": 8,
     "metadata": {},
     "output_type": "execute_result"
    }
   ],
   "source": [
    "type"
   ]
  },
  {
   "cell_type": "code",
   "execution_count": 9,
   "metadata": {},
   "outputs": [
    {
     "ename": "TypeError",
     "evalue": "type() takes 1 or 3 arguments",
     "output_type": "error",
     "traceback": [
      "\u001b[0;31m---------------------------------------------------------------------------\u001b[0m",
      "\u001b[0;31mTypeError\u001b[0m                                 Traceback (most recent call last)",
      "\u001b[0;32m<ipython-input-9-ff6dcb82abed>\u001b[0m in \u001b[0;36m<module>\u001b[0;34m\u001b[0m\n\u001b[0;32m----> 1\u001b[0;31m \u001b[0mtype\u001b[0m\u001b[0;34m(\u001b[0m\u001b[0;34m)\u001b[0m\u001b[0;34m\u001b[0m\u001b[0;34m\u001b[0m\u001b[0m\n\u001b[0m",
      "\u001b[0;31mTypeError\u001b[0m: type() takes 1 or 3 arguments"
     ]
    }
   ],
   "source": [
    "type()"
   ]
  },
  {
   "cell_type": "markdown",
   "metadata": {},
   "source": [
    "**OOP = Object Oriented Programming**\n",
    "\n",
    "_class_"
   ]
  },
  {
   "cell_type": "markdown",
   "metadata": {},
   "source": [
    "Syntax for class\n",
    "\n",
    "```python\n",
    "\n",
    "class name():\n",
    "    methods\n",
    "    attributes\n",
    "    ...\n",
    "\n",
    "````"
   ]
  },
  {
   "cell_type": "code",
   "execution_count": 44,
   "metadata": {},
   "outputs": [],
   "source": [
    "# First Class Creation\n",
    "\n",
    "class cars:\n",
    "    def __init__(self , modeli , coloru , gearbox):\n",
    "        self.model = modeli\n",
    "        self.color = coloru\n",
    "        self.gearboxtype = gearbox\n",
    "        \n",
    "    def cumle( self):\n",
    "        print( f'My car is {self.model} and it is {self.color}')\n",
    "        \n",
    "    def gearComment(self):\n",
    "        if self.gearboxtype == \"manual\":\n",
    "            print( \"your is old\")\n",
    "        else:\n",
    "            print( \"your is new\")"
   ]
  },
  {
   "cell_type": "code",
   "execution_count": 18,
   "metadata": {},
   "outputs": [
    {
     "data": {
      "text/plain": [
       "type"
      ]
     },
     "execution_count": 18,
     "metadata": {},
     "output_type": "execute_result"
    }
   ],
   "source": [
    "type( cars )"
   ]
  },
  {
   "cell_type": "code",
   "execution_count": 46,
   "metadata": {},
   "outputs": [],
   "source": [
    "Fiat = cars(\"Egea\",\"red\", \"manual\")"
   ]
  },
  {
   "cell_type": "code",
   "execution_count": 23,
   "metadata": {
    "collapsed": true,
    "jupyter": {
     "outputs_hidden": true
    }
   },
   "outputs": [
    {
     "data": {
      "text/plain": [
       "<__main__.cars at 0x7fa27aaad610>"
      ]
     },
     "execution_count": 23,
     "metadata": {},
     "output_type": "execute_result"
    }
   ],
   "source": [
    "Fiat"
   ]
  },
  {
   "cell_type": "code",
   "execution_count": 47,
   "metadata": {},
   "outputs": [
    {
     "data": {
      "text/plain": [
       "'red'"
      ]
     },
     "execution_count": 47,
     "metadata": {},
     "output_type": "execute_result"
    }
   ],
   "source": [
    "Fiat.color"
   ]
  },
  {
   "cell_type": "code",
   "execution_count": 48,
   "metadata": {},
   "outputs": [
    {
     "data": {
      "text/plain": [
       "'Egea'"
      ]
     },
     "execution_count": 48,
     "metadata": {},
     "output_type": "execute_result"
    }
   ],
   "source": [
    "Fiat.model"
   ]
  },
  {
   "cell_type": "code",
   "execution_count": 49,
   "metadata": {},
   "outputs": [
    {
     "name": "stdout",
     "output_type": "stream",
     "text": [
      "My car is Egea and it is red\n"
     ]
    }
   ],
   "source": [
    "Fiat.cumle()"
   ]
  },
  {
   "cell_type": "code",
   "execution_count": 50,
   "metadata": {},
   "outputs": [
    {
     "name": "stdout",
     "output_type": "stream",
     "text": [
      "your is old\n"
     ]
    }
   ],
   "source": [
    "Fiat.gearComment()"
   ]
  },
  {
   "cell_type": "code",
   "execution_count": null,
   "metadata": {},
   "outputs": [],
   "source": [
    "Fiat."
   ]
  },
  {
   "cell_type": "code",
   "execution_count": 41,
   "metadata": {},
   "outputs": [],
   "source": [
    "Toyota = cars(\"Corollar\",\"white\")"
   ]
  },
  {
   "cell_type": "code",
   "execution_count": 42,
   "metadata": {},
   "outputs": [
    {
     "name": "stdout",
     "output_type": "stream",
     "text": [
      "My car is Corollar and it is white\n"
     ]
    }
   ],
   "source": [
    "Toyota."
   ]
  },
  {
   "cell_type": "markdown",
   "metadata": {},
   "source": [
    "---"
   ]
  },
  {
   "cell_type": "code",
   "execution_count": 37,
   "metadata": {},
   "outputs": [],
   "source": [
    "fiat = {\"model\":\"Egea\" , \"color\":\"Red\"}"
   ]
  },
  {
   "cell_type": "code",
   "execution_count": 38,
   "metadata": {},
   "outputs": [
    {
     "data": {
      "text/plain": [
       "'Egea'"
      ]
     },
     "execution_count": 38,
     "metadata": {},
     "output_type": "execute_result"
    }
   ],
   "source": [
    "fiat[\"model\"]"
   ]
  },
  {
   "cell_type": "code",
   "execution_count": 39,
   "metadata": {},
   "outputs": [
    {
     "name": "stdout",
     "output_type": "stream",
     "text": [
      "My car is Egea and it is Red\n"
     ]
    }
   ],
   "source": [
    "print( f'My car is {fiat[\"model\"]} and it is {fiat[\"color\"]}')"
   ]
  },
  {
   "cell_type": "markdown",
   "metadata": {},
   "source": [
    "---\n",
    "\n",
    "The class you may know is MATPLOTLIB"
   ]
  },
  {
   "cell_type": "code",
   "execution_count": 43,
   "metadata": {},
   "outputs": [],
   "source": [
    "import matplotlib.pyplot as plt"
   ]
  },
  {
   "cell_type": "code",
   "execution_count": null,
   "metadata": {},
   "outputs": [],
   "source": [
    "plt."
   ]
  },
  {
   "cell_type": "code",
   "execution_count": null,
   "metadata": {},
   "outputs": [],
   "source": []
  },
  {
   "cell_type": "code",
   "execution_count": null,
   "metadata": {},
   "outputs": [],
   "source": []
  },
  {
   "cell_type": "code",
   "execution_count": null,
   "metadata": {},
   "outputs": [],
   "source": []
  },
  {
   "cell_type": "markdown",
   "metadata": {},
   "source": [
    "---\n",
    "\n",
    "**Remember the function we defined last week**"
   ]
  },
  {
   "cell_type": "markdown",
   "metadata": {},
   "source": [
    "**Let's create a new function using the formulat we learned from Strength of Materials Course**\n",
    "\n",
    "<img src=\"./1-Figures/2021_0317-Week03-Figure1.png\" style=\"width:30%;\"/>\n",
    "\n",
    "\n",
    "\n"
   ]
  },
  {
   "cell_type": "code",
   "execution_count": 73,
   "metadata": {},
   "outputs": [],
   "source": [
    "# Calculate the moment of inertia\n",
    "def moment_of_inertia_circular( h ): \n",
    "    I = 3.14 * h**4  / 12\n",
    "    return I\n",
    "\n",
    "def moment_of_inertia_rect( b, h ): \n",
    "    I = (b  *  h**3) / 12\n",
    "    return I        \n",
    "\n",
    "def normal_stress_distribution( Q , L , E , dim , n = 2 , plotFlag = False ) :\n",
    "    \"\"\"\n",
    "    Description: This function creates the normal stress distribution of the simple beam\n",
    "    \n",
    "    Input: \n",
    "    Q :\n",
    "    L :\n",
    "    E :\n",
    "    dim :\n",
    "    n : optional \n",
    "    \n",
    "    Output : \n",
    "    \n",
    "    stressMax : Max stress\n",
    "    stressDistribution: \n",
    "    \"\"\"\n",
    "    # Calculate the max bending moment\n",
    "    M_max = (Q * L**2)/8 # maximum moment\n",
    "\n",
    "    # Section definition\n",
    "    \n",
    "    if len( dim ) == 1 : \n",
    "        print( \"Section is circular\")\n",
    "        h = dim[0]\n",
    "        #I = moment_of_inertia_circular( h)\n",
    "        I_f = lambda x : 3.14 * x**4  / 12\n",
    "        I = I_f(h) \n",
    "    else :\n",
    "        print( \"Section is rectangular\")\n",
    "        b = dim[0]\n",
    "        h = dim[1]\n",
    "        # Calculate the moment of inertia\n",
    "        I = moment_of_inertia_rect( b, h )\n",
    "    \n",
    "    # Define the y values\n",
    "    y_values = [ -h/2 + h/n * item for item in range(n+1) ] # distance of interim points to the NA\n",
    "    \n",
    "    # Obtain the stress distribution \n",
    "    \n",
    "    stressDistribution = []\n",
    "    for i in y_values : \n",
    "        stressDistribution.append( (M_max)/(E * I) * i )  \n",
    "\n",
    "    # Compute the max stress value\n",
    "    stressMax = max( stressDistribution )\n",
    "    \n",
    "    # Visualize\n",
    "    if plotFlag == True:\n",
    "        import matplotlib.pyplot as plt\n",
    "        plt.plot( stressDistribution , y_values , \"k\")\n",
    "        plt.box(False)\n",
    "        plt.axhline(0)\n",
    "        plt.axvline(0)\n",
    "        plt.title( f\"Max strain is {stressMax}\")\n",
    "    \n",
    "    # Return \n",
    "    return [ stressMax , stressDistribution , y_values]"
   ]
  }
 ],
 "metadata": {
  "kernelspec": {
   "display_name": "Python 3",
   "language": "python",
   "name": "python3"
  },
  "language_info": {
   "codemirror_mode": {
    "name": "ipython",
    "version": 3
   },
   "file_extension": ".py",
   "mimetype": "text/x-python",
   "name": "python",
   "nbconvert_exporter": "python",
   "pygments_lexer": "ipython3",
   "version": "3.8.5"
  },
  "toc-autonumbering": false,
  "toc-showcode": false,
  "toc-showmarkdowntxt": true,
  "toc-showtags": true
 },
 "nbformat": 4,
 "nbformat_minor": 4
}
